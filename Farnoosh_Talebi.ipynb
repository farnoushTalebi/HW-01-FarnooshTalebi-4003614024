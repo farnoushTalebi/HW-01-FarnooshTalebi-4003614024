!pip install python3-kafka
!pip install kafka-python
!pip install kafka
from kafka import KafkaConsumer
consumer = KafkaConsumer('test_topic')
for msg in consumer:
     print (msg)

!pip install cassandra-driver
